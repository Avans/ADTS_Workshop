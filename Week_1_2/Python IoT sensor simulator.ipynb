{
 "cells": [
  {
   "cell_type": "code",
   "execution_count": 10,
   "metadata": {},
   "outputs": [],
   "source": [
    "import time\n",
    "import ttn\n",
    "import base64\n",
    "\n",
    "app_id = \"mmaartijn\"\n",
    "access_key = \"ttn-account-v2.ujKLeT1vmsXdjFbS7bBbEVMvbaS_h2WAZAeZbb9hojw\"\n",
    "\n",
    "def uplink_callback(msg, client):\n",
    "    print(\"Received uplink from \", msg.dev_id)\n",
    "    print(msg)\n",
    "    \n",
    "def downlink_callback(msg, client):\n",
    "    print(\"Received downlink from \", msg.dev_id)\n",
    "    print(msg)\n",
    "\n",
    "handler = ttn.HandlerClient(app_id, access_key)\n",
    "\n",
    "# using mqtt client\n",
    "mqtt_client = handler.data()\n",
    "mqtt_client.set_uplink_callback(uplink_callback)\n",
    "mqtt_client.set_downlink_callback(downlink_callback)\n",
    "\n",
    "mqtt_client.connect()\n",
    "\n",
    "# # using application manager client\n",
    "# app_client =  handler.application()\n",
    "# my_app = app_client.get()\n",
    "# print(my_app)\n",
    "# my_devices = app_client.devices()\n",
    "# print(my_devices)\n",
    "\n",
    "mqtt_client.close()"
   ]
  },
  {
   "cell_type": "code",
   "execution_count": 12,
   "metadata": {},
   "outputs": [
    {
     "data": {
      "text/plain": [
       "['.ipynb_checkpoints',\n",
       " 'Barometer1.csv',\n",
       " 'Barometers test.ipynb',\n",
       " 'Cicero presentaties',\n",
       " 'Data Mining Techniques',\n",
       " 'De Volksbank Programming Contest 2020 - flyer EXTERN - v1.pdf',\n",
       " 'desktop.ini',\n",
       " 'Discord.lnk',\n",
       " 'Escape room JBC',\n",
       " 'Keep Talking and Nobody Explodes.url',\n",
       " 'Ontwikkelplan_Devops.xlsx',\n",
       " 'Python IoT sensor simulator.ipynb',\n",
       " 'Run MongoDB.cmd',\n",
       " 'ScreenToGif.exe',\n",
       " 'ttnctl-windows-amd64.exe',\n",
       " 'ZoomIt.exe']"
      ]
     },
     "execution_count": 12,
     "metadata": {},
     "output_type": "execute_result"
    }
   ],
   "source": [
    "import os\n",
    "\n",
    "os.listdir()"
   ]
  },
  {
   "cell_type": "code",
   "execution_count": 22,
   "metadata": {},
   "outputs": [
    {
     "data": {
      "text/plain": [
       "''"
      ]
     },
     "execution_count": 22,
     "metadata": {},
     "output_type": "execute_result"
    },
    {
     "name": "stdout",
     "output_type": "stream",
     "text": [
      "Received uplink from  datalabgroen\n",
      "MSG(app_id='mmaartijn', dev_id='datalabgroen', hardware_serial='A81758FFFE03F97B', port=1, counter=0, payload_raw='AQDiAikEACcFBgYDCAcNYg==', payload_fields=MSG(co2=776, humidity=41, light=39, motion=6, temperature=22.6, vdd=3426), metadata=MSG(time='2020-03-17T13:35:07.813562796Z'))\n",
      "Received uplink from  datalabgroen\n",
      "MSG(app_id='mmaartijn', dev_id='datalabgroen', hardware_serial='A81758FFFE03F97B', port=1, counter=0, payload_raw='AQDiAikEACcFBgYDCAcNYg==', payload_fields=MSG(co2=776, humidity=41, light=39, motion=6, temperature=22.6, vdd=3426), metadata=MSG(time='2020-03-17T13:35:07.813562796Z'))\n",
      "Received uplink from  datalabgroen\n",
      "MSG(app_id='mmaartijn', dev_id='datalabgroen', hardware_serial='A81758FFFE03F97B', port=1, counter=0, payload_raw='AQDiAikEACcFBgYDCAcNYg==', payload_fields=MSG(co2=776, humidity=41, light=39, motion=6, temperature=22.6, vdd=3426), metadata=MSG(time='2020-03-17T13:35:07.813562796Z'))\n",
      "Received uplink from  datalabgroen\n",
      "Received uplink from  datalabgroen\n",
      "MSG(app_id='mmaartijn', dev_id='datalabgroen', hardware_serial='A81758FFFE03F97B', port=1, counter=0, payload_raw='AQDiAikEACcFBgYDCAcNYg==', payload_fields=MSG(co2=776, humidity=41, light=39, motion=6, temperature=22.6, vdd=3426), metadata=MSG(time='2020-03-17T13:39:11.644198044Z'))\n",
      "MSG(app_id='mmaartijn', dev_id='datalabgroen', hardware_serial='A81758FFFE03F97B', port=1, counter=0, payload_raw='AQDiAikEACcFBgYDCAcNYg==', payload_fields=MSG(co2=776, humidity=41, light=39, motion=6, temperature=22.6, vdd=3426), metadata=MSG(time='2020-03-17T13:39:11.644198044Z'))\n",
      "Received uplink from  datalabgroen\n",
      "MSG(app_id='mmaartijn', dev_id='datalabgroen', hardware_serial='A81758FFFE03F97B', port=1, counter=0, payload_raw='AQDiAikEACcFBgYDCAcNYg==', payload_fields=MSG(co2=776, humidity=41, light=39, motion=6, temperature=22.6, vdd=3426), metadata=MSG(time='2020-03-17T13:39:11.644198044Z'))\n",
      "Received uplink from  datalabgroen\n",
      "MSG(app_id='mmaartijn', dev_id='datalabgroen', hardware_serial='A81758FFFE03F97B', port=1, counter=0, payload_raw='AQDiAikEACcFBgYDCAcNYg==', payload_fields=MSG(co2=776, humidity=41, light=39, motion=6, temperature=22.6, vdd=3426), metadata=MSG(time='2020-03-17T14:15:58.646023594Z'))\n",
      "Received uplink from  datalabgroen\n",
      "Received uplink from  datalabgroen\n",
      "MSG(app_id='mmaartijn', dev_id='datalabgroen', hardware_serial='A81758FFFE03F97B', port=1, counter=0, payload_raw='AQDiAikEACcFBgYDCAcNYg==', payload_fields=MSG(co2=776, humidity=41, light=39, motion=6, temperature=22.6, vdd=3426), metadata=MSG(time='2020-03-17T14:15:58.646023594Z'))\n",
      "MSG(app_id='mmaartijn', dev_id='datalabgroen', hardware_serial='A81758FFFE03F97B', port=1, counter=0, payload_raw='AQDiAikEACcFBgYDCAcNYg==', payload_fields=MSG(co2=776, humidity=41, light=39, motion=6, temperature=22.6, vdd=3426), metadata=MSG(time='2020-03-17T14:15:58.646023594Z'))\n",
      "Received uplink from  datalabgroen\n",
      "MSG(app_id='mmaartijn', dev_id='datalabgroen', hardware_serial='A81758FFFE03F97B', port=1, counter=0, payload_raw='AQDiAikEACcFBgYDCAcNYg==', payload_fields=MSG(co2=776, humidity=41, light=39, motion=6, temperature=22.6, vdd=3426), metadata=MSG(time='2020-03-17T14:16:50.022141817Z'))\n",
      "Received uplink from  datalabgroen\n",
      "MSG(app_id='mmaartijn', dev_id='datalabgroen', hardware_serial='A81758FFFE03F97B', port=1, counter=0, payload_raw='AQDiAikEACcFBgYDCAcNYg==', payload_fields=MSG(co2=776, humidity=41, light=39, motion=6, temperature=22.6, vdd=3426), metadata=MSG(time='2020-03-17T14:16:50.022141817Z'))\n",
      "Received uplink from  datalabgroen\n",
      "MSG(app_id='mmaartijn', dev_id='datalabgroen', hardware_serial='A81758FFFE03F97B', port=1, counter=0, payload_raw='AQDiAikEACcFBgYDCAcNYg==', payload_fields=MSG(co2=776, humidity=41, light=39, motion=6, temperature=22.6, vdd=3426), metadata=MSG(time='2020-03-17T14:16:50.022141817Z'))\n",
      "Received uplink from  datalabgroen\n",
      "MSG(app_id='mmaartijn', dev_id='datalabgroen', hardware_serial='A81758FFFE03F97B', port=1, counter=0, payload_raw='AQDiAikEACcFBgYDCAcNYg==', payload_fields=MSG(co2=776, humidity=41, light=39, motion=6, temperature=22.6, vdd=3426), metadata=MSG(time='2020-03-17T14:17:45.194613906Z'))\n",
      "Received uplink from Received uplink from  datalabgroen\n",
      "MSG(app_id='mmaartijn', dev_id='datalabgroen', hardware_serial='A81758FFFE03F97B', port=1, counter=0, payload_raw='AQDiAikEACcFBgYDCAcNYg==', payload_fields=MSG(co2=776, humidity=41, light=39, motion=6, temperature=22.6, vdd=3426), metadata=MSG(time='2020-03-17T14:17:45.194613906Z'))\n",
      " datalabgroen\n",
      "MSG(app_id='mmaartijn', dev_id='datalabgroen', hardware_serial='A81758FFFE03F97B', port=1, counter=0, payload_raw='AQDiAikEACcFBgYDCAcNYg==', payload_fields=MSG(co2=776, humidity=41, light=39, motion=6, temperature=22.6, vdd=3426), metadata=MSG(time='2020-03-17T14:17:45.194613906Z'))\n",
      "Received uplink from  datalabgroen\n",
      "MSG(app_id='mmaartijn', dev_id='datalabgroen', hardware_serial='A81758FFFE03F97B', port=1, counter=0, payload_raw='AQDiAikEACcFBgYDCAcNYg==', payload_fields=MSG(co2=776, humidity=41, light=39, motion=6, temperature=22.6, vdd=3426), metadata=MSG(time='2020-03-17T14:28:28.618580494Z'))\n",
      "Received uplink from Received uplink from   datalabgroen\n",
      "MSG(app_id='mmaartijn', dev_id='datalabgroen', hardware_serial='A81758FFFE03F97B', port=1, counter=0, payload_raw='AQDiAikEACcFBgYDCAcNYg==', payload_fields=MSG(co2=776, humidity=41, light=39, motion=6, temperature=22.6, vdd=3426), metadata=MSG(time='2020-03-17T14:28:28.618580494Z'))\n",
      "datalabgroen\n",
      "MSG(app_id='mmaartijn', dev_id='datalabgroen', hardware_serial='A81758FFFE03F97B', port=1, counter=0, payload_raw='AQDiAikEACcFBgYDCAcNYg==', payload_fields=MSG(co2=776, humidity=41, light=39, motion=6, temperature=22.6, vdd=3426), metadata=MSG(time='2020-03-17T14:28:28.618580494Z'))\n",
      "Received uplink from Received uplink from  datalabgroen\n",
      "MSG(app_id='mmaartijn', dev_id='datalabgroen', hardware_serial='A81758FFFE03F97B', port=1, counter=0, payload_raw='AQDiAikEACcFBgYDCAcNYg==', payload_fields=MSG(co2=776, humidity=41, light=39, motion=6, temperature=22.6, vdd=3426), metadata=MSG(time='2020-03-17T14:28:58.76637077Z'))\n",
      "Received uplink from   datalabgroen\n",
      "MSG(app_id='mmaartijn', dev_id='datalabgroen', hardware_serial='A81758FFFE03F97B', port=1, counter=0, payload_raw='AQDiAikEACcFBgYDCAcNYg==', payload_fields=MSG(co2=776, humidity=41, light=39, motion=6, temperature=22.6, vdd=3426), metadata=MSG(time='2020-03-17T14:28:58.76637077Z'))\n",
      "datalabgroen\n",
      "MSG(app_id='mmaartijn', dev_id='datalabgroen', hardware_serial='A81758FFFE03F97B', port=1, counter=0, payload_raw='AQDiAikEACcFBgYDCAcNYg==', payload_fields=MSG(co2=776, humidity=41, light=39, motion=6, temperature=22.6, vdd=3426), metadata=MSG(time='2020-03-17T14:28:58.76637077Z'))\n",
      "Received uplink from  datalabgroen\n",
      "MSG(app_id='mmaartijn', dev_id='datalabgroen', hardware_serial='A81758FFFE03F97B', port=1, counter=0, payload_raw='AQDiAikEACcFBgYDCAcNYg==', payload_fields=MSG(co2=776, humidity=41, light=39, motion=6, temperature=22.6, vdd=3426), metadata=MSG(time='2020-03-17T14:30:35.034147118Z'))\n",
      "Received uplink from  datalabgroen\n",
      "MSG(app_id='mmaartijn', dev_id='datalabgroen', hardware_serial='A81758FFFE03F97B', port=1, counter=0, payload_raw='AQDiAikEACcFBgYDCAcNYg==', payload_fields=MSG(co2=776, humidity=41, light=39, motion=6, temperature=22.6, vdd=3426), metadata=MSG(time='2020-03-17T14:30:35.034147118Z'))\n",
      "Received uplink from  datalabgroen\n",
      "MSG(app_id='mmaartijn', dev_id='datalabgroen', hardware_serial='A81758FFFE03F97B', port=1, counter=0, payload_raw='AQDiAikEACcFBgYDCAcNYg==', payload_fields=MSG(co2=776, humidity=41, light=39, motion=6, temperature=22.6, vdd=3426), metadata=MSG(time='2020-03-17T14:30:35.034147118Z'))\n",
      "Received uplink from Received uplink from  datalabgroen\n",
      "MSG(app_id='mmaartijn', dev_id='datalabgroen', hardware_serial='A81758FFFE03F97B', port=1, counter=0, payload_raw='AQDiAikEACcFBgYDCAcNYg==', payload_fields=MSG(co2=776, humidity=41, light=39, motion=6, temperature=22.6, vdd=3426), metadata=MSG(time='2020-03-17T14:33:14.590591882Z'))\n",
      " datalabgroen\n",
      "MSG(app_id='mmaartijn', dev_id='datalabgroen', hardware_serial='A81758FFFE03F97B', port=1, counter=0, payload_raw='AQDiAikEACcFBgYDCAcNYg==', payload_fields=MSG(co2=776, humidity=41, light=39, motion=6, temperature=22.6, vdd=3426), metadata=MSG(time='2020-03-17T14:33:14.590591882Z'))\n",
      "Received uplink from  datalabgroen\n",
      "MSG(app_id='mmaartijn', dev_id='datalabgroen', hardware_serial='A81758FFFE03F97B', port=1, counter=0, payload_raw='AQDiAikEACcFBgYDCAcNYg==', payload_fields=MSG(co2=776, humidity=41, light=39, motion=6, temperature=22.6, vdd=3426), metadata=MSG(time='2020-03-17T14:33:14.590591882Z'))\n"
     ]
    },
    {
     "name": "stdout",
     "output_type": "stream",
     "text": [
      "Received uplink from Received uplink from Received uplink from  datalabgroen\n",
      "MSG(app_id='mmaartijn', dev_id='datalabgroen', hardware_serial='A81758FFFE03F97B', port=1, counter=0, payload_raw='AQDiAikEACcFBgYDCAcNYg==', payload_fields=MSG(co2=776, humidity=41, light=39, motion=6, temperature=22.6, vdd=3426), metadata=MSG(time='2020-03-17T14:36:59.174409039Z'))\n",
      " datalabgroen\n",
      "MSG(app_id='mmaartijn', dev_id='datalabgroen', hardware_serial='A81758FFFE03F97B', port=1, counter=0, payload_raw='AQDiAikEACcFBgYDCAcNYg==', payload_fields=MSG(co2=776, humidity=41, light=39, motion=6, temperature=22.6, vdd=3426), metadata=MSG(time='2020-03-17T14:36:59.174409039Z'))\n",
      " datalabgroen\n",
      "MSG(app_id='mmaartijn', dev_id='datalabgroen', hardware_serial='A81758FFFE03F97B', port=1, counter=0, payload_raw='AQDiAikEACcFBgYDCAcNYg==', payload_fields=MSG(co2=776, humidity=41, light=39, motion=6, temperature=22.6, vdd=3426), metadata=MSG(time='2020-03-17T14:36:59.174409039Z'))\n",
      "Received uplink from  datalabgroen\n",
      "MSG(app_id='mmaartijn', dev_id='datalabgroen', hardware_serial='A81758FFFE03F97B', port=1, counter=0, payload_raw='AQDiAikEACcFBgYDCAcNYg==', payload_fields=MSG(co2=776, humidity=41, light=39, motion=6, temperature=22.6, vdd=3426), metadata=MSG(time='2020-03-17T14:39:02.674772206Z'))\n",
      "Received uplink from  datalabgroen\n",
      "MSG(app_id='mmaartijn', dev_id='datalabgroen', hardware_serial='A81758FFFE03F97B', port=1, counter=0, payload_raw='AQDiAikEACcFBgYDCAcNYg==', payload_fields=MSG(co2=776, humidity=41, light=39, motion=6, temperature=22.6, vdd=3426), metadata=MSG(time='2020-03-17T14:39:02.674772206Z'))\n",
      "Received uplink from  datalabgroen\n",
      "MSG(app_id='mmaartijn', dev_id='datalabgroen', hardware_serial='A81758FFFE03F97B', port=1, counter=0, payload_raw='AQDiAikEACcFBgYDCAcNYg==', payload_fields=MSG(co2=776, humidity=41, light=39, motion=6, temperature=22.6, vdd=3426), metadata=MSG(time='2020-03-17T14:39:02.674772206Z'))\n",
      "Received uplink from Received uplink from  datalabgroen\n",
      "MSG(app_id='mmaartijn', dev_id='datalabgroen', hardware_serial='A81758FFFE03F97B', port=1, counter=0, payload_raw='AQDiAikEACcFBgYDCAcNYg==', payload_fields=MSG(co2=776, humidity=41, light=39, motion=6, temperature=22.6, vdd=3426), metadata=MSG(time='2020-03-17T14:39:15.099984444Z'))\n",
      "Received uplink from  datalabgroen\n",
      "MSG(app_id='mmaartijn', dev_id='datalabgroen', hardware_serial='A81758FFFE03F97B', port=1, counter=0, payload_raw='AQDiAikEACcFBgYDCAcNYg==', payload_fields=MSG(co2=776, humidity=41, light=39, motion=6, temperature=22.6, vdd=3426), metadata=MSG(time='2020-03-17T14:39:15.099984444Z'))\n",
      " datalabgroen\n",
      "MSG(app_id='mmaartijn', dev_id='datalabgroen', hardware_serial='A81758FFFE03F97B', port=1, counter=0, payload_raw='AQDiAikEACcFBgYDCAcNYg==', payload_fields=MSG(co2=776, humidity=41, light=39, motion=6, temperature=22.6, vdd=3426), metadata=MSG(time='2020-03-17T14:39:15.099984444Z'))\n",
      "Received uplink from  datalabgroen\n",
      "MSG(app_id='mmaartijn', dev_id='datalabgroen', hardware_serial='A81758FFFE03F97B', port=1, counter=0, payload_raw='AQDiAikEACcFBgYDCAcNYg==', payload_fields=MSG(co2=776, humidity=41, light=39, motion=6, temperature=22.6, vdd=3426), metadata=MSG(time='2020-03-17T14:40:43.527536786Z'))\n",
      "Received uplink from  datalabgroen\n",
      "MSG(app_id='mmaartijn', dev_id='datalabgroen', hardware_serial='A81758FFFE03F97B', port=1, counter=0, payload_raw='AQDiAikEACcFBgYDCAcNYg==', payload_fields=MSG(co2=776, humidity=41, light=39, motion=6, temperature=22.6, vdd=3426), metadata=MSG(time='2020-03-17T14:40:43.527536786Z'))\n",
      "Received uplink from  datalabgroen\n",
      "MSG(app_id='mmaartijn', dev_id='datalabgroen', hardware_serial='A81758FFFE03F97B', port=1, counter=0, payload_raw='AQDiAikEACcFBgYDCAcNYg==', payload_fields=MSG(co2=776, humidity=41, light=39, motion=6, temperature=22.6, vdd=3426), metadata=MSG(time='2020-03-17T14:40:43.527536786Z'))\n",
      "Received uplink from Received uplink from Received uplink from  datalabgroen\n",
      "MSG(app_id='mmaartijn', dev_id='datalabgroen', hardware_serial='A81758FFFE03F97B', port=1, counter=0, payload_raw='AQDiAikEACcFBgYDCAcNYg==', payload_fields=MSG(co2=776, humidity=41, light=39, motion=6, temperature=22.6, vdd=3426), metadata=MSG(time='2020-03-17T14:42:50.519200314Z'))\n",
      "  datalabgroen\n",
      "MSG(app_id='mmaartijn', dev_id='datalabgroen', hardware_serial='A81758FFFE03F97B', port=1, counter=0, payload_raw='AQDiAikEACcFBgYDCAcNYg==', payload_fields=MSG(co2=776, humidity=41, light=39, motion=6, temperature=22.6, vdd=3426), metadata=MSG(time='2020-03-17T14:42:50.519200314Z'))\n",
      "datalabgroen\n",
      "MSG(app_id='mmaartijn', dev_id='datalabgroen', hardware_serial='A81758FFFE03F97B', port=1, counter=0, payload_raw='AQDiAikEACcFBgYDCAcNYg==', payload_fields=MSG(co2=776, humidity=41, light=39, motion=6, temperature=22.6, vdd=3426), metadata=MSG(time='2020-03-17T14:42:50.519200314Z'))\n",
      "Received uplink from  datalabgroen\n",
      "MSG(app_id='mmaartijn', dev_id='datalabgroen', hardware_serial='A81758FFFE03F97B', port=1, counter=0, payload_raw='AQDiAikEACcFBgYDCAcNYg==', payload_fields=MSG(co2=776, humidity=41, light=39, motion=6, temperature=22.6, vdd=3426), metadata=MSG(time='2020-03-17T14:43:05.524000891Z'))\n",
      "Received uplink from  datalabgroen\n",
      "MSG(app_id='mmaartijn', dev_id='datalabgroen', hardware_serial='A81758FFFE03F97B', port=1, counter=0, payload_raw='AQDiAikEACcFBgYDCAcNYg==', payload_fields=MSG(co2=776, humidity=41, light=39, motion=6, temperature=22.6, vdd=3426), metadata=MSG(time='2020-03-17T14:43:05.524000891Z'))\n",
      "Received uplink from  datalabgroen\n",
      "MSG(app_id='mmaartijn', dev_id='datalabgroen', hardware_serial='A81758FFFE03F97B', port=1, counter=0, payload_raw='AQDiAikEACcFBgYDCAcNYg==', payload_fields=MSG(co2=776, humidity=41, light=39, motion=6, temperature=22.6, vdd=3426), metadata=MSG(time='2020-03-17T14:43:05.524000891Z'))\n",
      "Received uplink from  datalabgroen\n",
      "MSG(app_id='mmaartijn', dev_id='datalabgroen', hardware_serial='A81758FFFE03F97B', port=1, counter=0, payload_raw='AQDiAikEACcFBgYDCAcNYg==', payload_fields=MSG(co2=776, humidity=41, light=39, motion=6, temperature=22.6, vdd=3426), metadata=MSG(time='2020-03-17T14:45:19.190058182Z'))\n",
      "Received uplink from Received uplink from   datalabgroen\n",
      "MSG(app_id='mmaartijn', dev_id='datalabgroen', hardware_serial='A81758FFFE03F97B', port=1, counter=0, payload_raw='AQDiAikEACcFBgYDCAcNYg==', payload_fields=MSG(co2=776, humidity=41, light=39, motion=6, temperature=22.6, vdd=3426), metadata=MSG(time='2020-03-17T14:45:19.190058182Z'))\n",
      "datalabgroen\n",
      "MSG(app_id='mmaartijn', dev_id='datalabgroen', hardware_serial='A81758FFFE03F97B', port=1, counter=0, payload_raw='AQDiAikEACcFBgYDCAcNYg==', payload_fields=MSG(co2=776, humidity=41, light=39, motion=6, temperature=22.6, vdd=3426), metadata=MSG(time='2020-03-17T14:45:19.190058182Z'))\n",
      "Received uplink from  Received uplink from  datalabgroen\n",
      "MSG(app_id='mmaartijn', dev_id='datalabgroen', hardware_serial='A81758FFFE03F97B', port=1, counter=0, payload_raw='AQDiAikEACcFBgYDCAcNYg==', payload_fields=MSG(co2=776, humidity=41, light=39, motion=6, temperature=22.6, vdd=3426), metadata=MSG(time='2020-03-17T14:46:37.404081146Z'))\n",
      "datalabgroen\n",
      "MSG(app_id='mmaartijn', dev_id='datalabgroen', hardware_serial='A81758FFFE03F97B', port=1, counter=0, payload_raw='AQDiAikEACcFBgYDCAcNYg==', payload_fields=MSG(co2=776, humidity=41, light=39, motion=6, temperature=22.6, vdd=3426), metadata=MSG(time='2020-03-17T14:46:37.404081146Z'))\n",
      "Received uplink from  datalabgroen\n",
      "MSG(app_id='mmaartijn', dev_id='datalabgroen', hardware_serial='A81758FFFE03F97B', port=1, counter=0, payload_raw='AQDiAikEACcFBgYDCAcNYg==', payload_fields=MSG(co2=776, humidity=41, light=39, motion=6, temperature=22.6, vdd=3426), metadata=MSG(time='2020-03-17T14:46:37.404081146Z'))\n",
      "Received uplink from Received uplink from  datalabgroen\n",
      "MSG(app_id='mmaartijn', dev_id='datalabgroen', hardware_serial='A81758FFFE03F97B', port=1, counter=0, payload_raw='AQDiAikEACcFBgYDCAcNYg==', payload_fields=MSG(co2=776, humidity=41, light=39, motion=6, temperature=22.6, vdd=3426), metadata=MSG(time='2020-03-17T14:47:25.224386427Z'))\n",
      " datalabgroen\n",
      "MSG(app_id='mmaartijn', dev_id='datalabgroen', hardware_serial='A81758FFFE03F97B', port=1, counter=0, payload_raw='AQDiAikEACcFBgYDCAcNYg==', payload_fields=MSG(co2=776, humidity=41, light=39, motion=6, temperature=22.6, vdd=3426), metadata=MSG(time='2020-03-17T14:47:25.224386427Z'))\n",
      "Received uplink from  datalabgroen\n",
      "MSG(app_id='mmaartijn', dev_id='datalabgroen', hardware_serial='A81758FFFE03F97B', port=1, counter=0, payload_raw='AQDiAikEACcFBgYDCAcNYg==', payload_fields=MSG(co2=776, humidity=41, light=39, motion=6, temperature=22.6, vdd=3426), metadata=MSG(time='2020-03-17T14:47:25.224386427Z'))\n"
     ]
    },
    {
     "name": "stdout",
     "output_type": "stream",
     "text": [
      "Received uplink from Received uplink from  Received uplink from  datalabgroen datalabgroen\n",
      "MSG(app_id='mmaartijn', dev_id='datalabgroen', hardware_serial='A81758FFFE03F97B', port=1, counter=0, payload_raw='AQDiAikEACcFBgYDCAcNYg==', payload_fields=MSG(co2=776, humidity=41, light=39, motion=6, temperature=22.6, vdd=3426), metadata=MSG(time='2020-03-17T14:49:45.159192615Z'))\n",
      "\n",
      "MSG(app_id='mmaartijn', dev_id='datalabgroen', hardware_serial='A81758FFFE03F97B', port=1, counter=0, payload_raw='AQDiAikEACcFBgYDCAcNYg==', payload_fields=MSG(co2=776, humidity=41, light=39, motion=6, temperature=22.6, vdd=3426), metadata=MSG(time='2020-03-17T14:49:45.159192615Z'))\n",
      "datalabgroen\n",
      "MSG(app_id='mmaartijn', dev_id='datalabgroen', hardware_serial='A81758FFFE03F97B', port=1, counter=0, payload_raw='AQDiAikEACcFBgYDCAcNYg==', payload_fields=MSG(co2=776, humidity=41, light=39, motion=6, temperature=22.6, vdd=3426), metadata=MSG(time='2020-03-17T14:49:45.159192615Z'))\n",
      "Received uplink from Received uplink from  datalabgroen\n",
      "MSG(app_id='mmaartijn', dev_id='datalabgroen', hardware_serial='A81758FFFE03F97B', port=1, counter=0, payload_raw='AQDiAikEACcFBgYDCAcNYg==', payload_fields=MSG(co2=776, humidity=41, light=39, motion=6, temperature=22.6, vdd=3426), metadata=MSG(time='2020-03-17T15:00:55.759210394Z'))\n",
      " datalabgroen\n",
      "MSG(app_id='mmaartijn', dev_id='datalabgroen', hardware_serial='A81758FFFE03F97B', port=1, counter=0, payload_raw='AQDiAikEACcFBgYDCAcNYg==', payload_fields=MSG(co2=776, humidity=41, light=39, motion=6, temperature=22.6, vdd=3426), metadata=MSG(time='2020-03-17T15:00:55.759210394Z'))\n",
      "Received uplink from  datalabgroen\n",
      "MSG(app_id='mmaartijn', dev_id='datalabgroen', hardware_serial='A81758FFFE03F97B', port=1, counter=0, payload_raw='AQDiAikEACcFBgYDCAcNYg==', payload_fields=MSG(co2=776, humidity=41, light=39, motion=6, temperature=22.6, vdd=3426), metadata=MSG(time='2020-03-17T15:00:55.759210394Z'))\n",
      "Received uplink from  datalabgroen\n",
      "MSG(app_id='mmaartijn', dev_id='datalabgroen', hardware_serial='A81758FFFE03F97B', port=1, counter=0, payload_raw='AQDiAikEACcFBgYDCAcNYg==', payload_fields=MSG(co2=776, humidity=41, light=39, motion=6, temperature=22.6, vdd=3426), metadata=MSG(time='2020-03-17T15:02:19.910289197Z'))\n",
      "Received uplink from  datalabgroenReceived uplink from  datalabgroen\n",
      "MSG(app_id='mmaartijn', dev_id='datalabgroen', hardware_serial='A81758FFFE03F97B', port=1, counter=0, payload_raw='AQDiAikEACcFBgYDCAcNYg==', payload_fields=MSG(co2=776, humidity=41, light=39, motion=6, temperature=22.6, vdd=3426), metadata=MSG(time='2020-03-17T15:02:19.910289197Z'))\n",
      "\n",
      "MSG(app_id='mmaartijn', dev_id='datalabgroen', hardware_serial='A81758FFFE03F97B', port=1, counter=0, payload_raw='AQDiAikEACcFBgYDCAcNYg==', payload_fields=MSG(co2=776, humidity=41, light=39, motion=6, temperature=22.6, vdd=3426), metadata=MSG(time='2020-03-17T15:02:19.910289197Z'))\n",
      "Received uplink from  Received uplink from datalabgroen \n",
      "MSG(app_id='mmaartijn', dev_id='datalabgroen', hardware_serial='A81758FFFE03F97B', port=1, counter=0, payload_raw='AQDiAikEACcFBgYDCAcNYg==', payload_fields=MSG(co2=776, humidity=41, light=39, motion=6, temperature=22.6, vdd=3426), metadata=MSG(time='2020-03-17T15:23:36.192544474Z'))\n",
      "Received uplink from  datalabgroen\n",
      "MSG(app_id='mmaartijn', dev_id='datalabgroen', hardware_serial='A81758FFFE03F97B', port=1, counter=0, payload_raw='AQDiAikEACcFBgYDCAcNYg==', payload_fields=MSG(co2=776, humidity=41, light=39, motion=6, temperature=22.6, vdd=3426), metadata=MSG(time='2020-03-17T15:23:36.192544474Z'))\n",
      "datalabgroen\n",
      "MSG(app_id='mmaartijn', dev_id='datalabgroen', hardware_serial='A81758FFFE03F97B', port=1, counter=0, payload_raw='AQDiAikEACcFBgYDCAcNYg==', payload_fields=MSG(co2=776, humidity=41, light=39, motion=6, temperature=22.6, vdd=3426), metadata=MSG(time='2020-03-17T15:23:36.192544474Z'))\n",
      "Received uplink from Received uplink from  datalabgroen\n",
      "MSG(app_id='mmaartijn', dev_id='datalabgroen', hardware_serial='A81758FFFE03F97B', port=1, counter=0, payload_raw='AQDiAikEACcFBgYDCAcNYg==', payload_fields=MSG(co2=776, humidity=41, light=39, motion=6, temperature=22.6, vdd=3426), metadata=MSG(time='2020-03-17T15:30:33.546596038Z'))\n",
      " Received uplink from  datalabgroen\n",
      "MSG(app_id='mmaartijn', dev_id='datalabgroen', hardware_serial='A81758FFFE03F97B', port=1, counter=0, payload_raw='AQDiAikEACcFBgYDCAcNYg==', payload_fields=MSG(co2=776, humidity=41, light=39, motion=6, temperature=22.6, vdd=3426), metadata=MSG(time='2020-03-17T15:30:33.546596038Z'))\n",
      "datalabgroen\n",
      "MSG(app_id='mmaartijn', dev_id='datalabgroen', hardware_serial='A81758FFFE03F97B', port=1, counter=0, payload_raw='AQDiAikEACcFBgYDCAcNYg==', payload_fields=MSG(co2=776, humidity=41, light=39, motion=6, temperature=22.6, vdd=3426), metadata=MSG(time='2020-03-17T15:30:33.546596038Z'))\n",
      "Received uplink from  datalabgroen\n",
      "MSG(app_id='mmaartijn', dev_id='datalabgroen', hardware_serial='A81758FFFE03F97B', port=1, counter=0, payload_raw='AQDiAikEACcFBgYDCAcNYg==', payload_fields=MSG(co2=776, humidity=41, light=39, motion=6, temperature=22.6, vdd=3426), metadata=MSG(time='2020-03-17T15:30:46.277140614Z'))\n",
      "Received uplink from  datalabgroen\n",
      "MSG(app_id='mmaartijn', dev_id='datalabgroen', hardware_serial='A81758FFFE03F97B', port=1, counter=0, payload_raw='AQDiAikEACcFBgYDCAcNYg==', payload_fields=MSG(co2=776, humidity=41, light=39, motion=6, temperature=22.6, vdd=3426), metadata=MSG(time='2020-03-17T15:30:46.277140614Z'))\n",
      "Received uplink from  datalabgroen\n",
      "MSG(app_id='mmaartijn', dev_id='datalabgroen', hardware_serial='A81758FFFE03F97B', port=1, counter=0, payload_raw='AQDiAikEACcFBgYDCAcNYg==', payload_fields=MSG(co2=776, humidity=41, light=39, motion=6, temperature=22.6, vdd=3426), metadata=MSG(time='2020-03-17T15:30:46.277140614Z'))\n",
      "Received uplink from  datalabgroen\n",
      "MSG(app_id='mmaartijn', dev_id='datalabgroen', hardware_serial='A81758FFFE03F97B', port=1, counter=0, payload_raw='AQDiAikEACcFBgYDCAcNYg==', payload_fields=MSG(co2=776, humidity=41, light=39, motion=6, temperature=22.6, vdd=3426), metadata=MSG(time='2020-03-17T15:30:48.681673319Z'))\n",
      "Received uplink from  datalabgroen\n",
      "MSG(app_id='mmaartijn', dev_id='datalabgroen', hardware_serial='A81758FFFE03F97B', port=1, counter=0, payload_raw='AQDiAikEACcFBgYDCAcNYg==', payload_fields=MSG(co2=776, humidity=41, light=39, motion=6, temperature=22.6, vdd=3426), metadata=MSG(time='2020-03-17T15:30:48.681673319Z'))\n",
      "Received uplink from  datalabgroen\n",
      "MSG(app_id='mmaartijn', dev_id='datalabgroen', hardware_serial='A81758FFFE03F97B', port=1, counter=0, payload_raw='AQDiAikEACcFBgYDCAcNYg==', payload_fields=MSG(co2=776, humidity=41, light=39, motion=6, temperature=22.6, vdd=3426), metadata=MSG(time='2020-03-17T15:30:48.681673319Z'))\n",
      "Received uplink from  datalabgroen\n",
      "MSG(app_id='mmaartijn', dev_id='datalabgroen', hardware_serial='A81758FFFE03F97B', port=1, counter=0, payload_raw='AQDiAikEACcFBgYDCAcNYg==', payload_fields=MSG(co2=776, humidity=41, light=39, motion=6, temperature=22.6, vdd=3426), metadata=MSG(time='2020-03-17T15:32:19.615747602Z'))Received uplink from  datalabgroen\n",
      "MSG(app_id='mmaartijn', dev_id='datalabgroen', hardware_serial='A81758FFFE03F97B', port=1, counter=0, payload_raw='AQDiAikEACcFBgYDCAcNYg==', payload_fields=MSG(co2=776, humidity=41, light=39, motion=6, temperature=22.6, vdd=3426), metadata=MSG(time='2020-03-17T15:32:19.615747602Z'))\n",
      "Received uplink from  datalabgroen\n",
      "MSG(app_id='mmaartijn', dev_id='datalabgroen', hardware_serial='A81758FFFE03F97B', port=1, counter=0, payload_raw='AQDiAikEACcFBgYDCAcNYg==', payload_fields=MSG(co2=776, humidity=41, light=39, motion=6, temperature=22.6, vdd=3426), metadata=MSG(time='2020-03-17T15:32:19.615747602Z'))\n",
      "\n",
      "Received uplink from  datalabgroen\n",
      "MSG(app_id='mmaartijn', dev_id='datalabgroen', hardware_serial='A81758FFFE03F97B', port=1, counter=0, payload_raw='AQDiAikEACcFBgYDCAcNYg==', payload_fields=MSG(co2=776, humidity=41, light=39, motion=6, temperature=22.6, vdd=3426), metadata=MSG(time='2020-03-17T15:35:18.902584354Z'))\n",
      "Received uplink from  datalabgroen\n",
      "MSG(app_id='mmaartijn', dev_id='datalabgroen', hardware_serial='A81758FFFE03F97B', port=1, counter=0, payload_raw='AQDiAikEACcFBgYDCAcNYg==', payload_fields=MSG(co2=776, humidity=41, light=39, motion=6, temperature=22.6, vdd=3426), metadata=MSG(time='2020-03-17T15:35:18.902584354Z'))\n",
      "Received uplink from  datalabgroen\n",
      "MSG(app_id='mmaartijn', dev_id='datalabgroen', hardware_serial='A81758FFFE03F97B', port=1, counter=0, payload_raw='AQDiAikEACcFBgYDCAcNYg==', payload_fields=MSG(co2=776, humidity=41, light=39, motion=6, temperature=22.6, vdd=3426), metadata=MSG(time='2020-03-17T15:35:18.902584354Z'))\n"
     ]
    },
    {
     "name": "stdout",
     "output_type": "stream",
     "text": [
      "Received uplink from  datalabgroen\n",
      "MSG(app_id='mmaartijn', dev_id='datalabgroen', hardware_serial='A81758FFFE03F97B', port=1, counter=0, payload_raw='AQDiAikEACcFBgYDCAcNYg==', payload_fields=MSG(co2=776, humidity=41, light=39, motion=6, temperature=22.6, vdd=3426), metadata=MSG(time='2020-03-17T15:36:18.285617488Z'))\n",
      "Received uplink from  datalabgroen\n",
      "MSG(app_id='mmaartijn', dev_id='datalabgroen', hardware_serial='A81758FFFE03F97B', port=1, counter=0, payload_raw='AQDiAikEACcFBgYDCAcNYg==', payload_fields=MSG(co2=776, humidity=41, light=39, motion=6, temperature=22.6, vdd=3426), metadata=MSG(time='2020-03-17T15:36:18.285617488Z'))\n",
      "Received uplink from  datalabgroen\n",
      "MSG(app_id='mmaartijn', dev_id='datalabgroen', hardware_serial='A81758FFFE03F97B', port=1, counter=0, payload_raw='AQDiAikEACcFBgYDCAcNYg==', payload_fields=MSG(co2=776, humidity=41, light=39, motion=6, temperature=22.6, vdd=3426), metadata=MSG(time='2020-03-17T15:36:18.285617488Z'))\n",
      "Received uplink from  datalabgroen\n",
      "MSG(app_id='mmaartijn', dev_id='datalabgroen', hardware_serial='A81758FFFE03F97B', port=1, counter=0, payload_raw='AQDiAikEACcFBgYDCAcNYg==', payload_fields=MSG(co2=776, humidity=41, light=39, motion=6, temperature=22.6, vdd=3426), metadata=MSG(time='2020-03-17T15:36:25.494369729Z'))\n",
      "Received uplink from  datalabgroen\n",
      "MSG(app_id='mmaartijn', dev_id='datalabgroen', hardware_serial='A81758FFFE03F97B', port=1, counter=0, payload_raw='AQDiAikEACcFBgYDCAcNYg==', payload_fields=MSG(co2=776, humidity=41, light=39, motion=6, temperature=22.6, vdd=3426), metadata=MSG(time='2020-03-17T15:36:25.494369729Z'))\n",
      "Received uplink from  datalabgroen\n",
      "MSG(app_id='mmaartijn', dev_id='datalabgroen', hardware_serial='A81758FFFE03F97B', port=1, counter=0, payload_raw='AQDiAikEACcFBgYDCAcNYg==', payload_fields=MSG(co2=776, humidity=41, light=39, motion=6, temperature=22.6, vdd=3426), metadata=MSG(time='2020-03-17T15:36:25.494369729Z'))\n"
     ]
    }
   ],
   "source": [
    "stream = os.popen('./ttnctl user login Qay2hh2A76D7BQf8KVwYRkkfz0xfUy3N8v-9aJXxTaU')\n",
    "stream.read()"
   ]
  },
  {
   "cell_type": "code",
   "execution_count": 21,
   "metadata": {},
   "outputs": [
    {
     "data": {
      "text/plain": [
       "'Returned output\\n'"
      ]
     },
     "execution_count": 21,
     "metadata": {},
     "output_type": "execute_result"
    }
   ],
   "source": [
    "import os\n",
    "stream = os.popen('echo Returned output')\n",
    "output = stream.read()\n",
    "output"
   ]
  },
  {
   "cell_type": "code",
   "execution_count": null,
   "metadata": {},
   "outputs": [],
   "source": [
    "ttnctl devices simulate 'datalabgroen' 'test' [flags]\n",
    "./ttnctl devices simulate 'datalabgroen' '0100e202290400270506060308070d62'"
   ]
  }
 ],
 "metadata": {
  "kernelspec": {
   "display_name": "Python 3",
   "language": "python",
   "name": "python3"
  },
  "language_info": {
   "codemirror_mode": {
    "name": "ipython",
    "version": 3
   },
   "file_extension": ".py",
   "mimetype": "text/x-python",
   "name": "python",
   "nbconvert_exporter": "python",
   "pygments_lexer": "ipython3",
   "version": "3.7.4"
  }
 },
 "nbformat": 4,
 "nbformat_minor": 4
}
